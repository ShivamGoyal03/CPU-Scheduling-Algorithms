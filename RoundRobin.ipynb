{
 "cells": [
  {
   "cell_type": "code",
   "execution_count": 1,
   "metadata": {},
   "outputs": [
    {
     "name": "stdout",
     "output_type": "stream",
     "text": [
      "\n",
      "Job\tArrival Time\tBurst Time\tFinish Time\tTurnaround Time\tWaiting Time\n",
      "A\t0\t\t10\t\t25\t\t25\t\t15\n",
      "B\t1\t\t5\t\t17\t\t16\t\t11\n",
      "C\t2\t\t8\t\t23\t\t21\t\t13\n",
      "D\t3\t\t2\t\t8\t\t5\t\t3\n",
      "\n",
      "Average Waiting Time: 10.50\n",
      "Average Turnaround Time: 16.75\n"
     ]
    }
   ],
   "source": [
    "class Process:\n",
    "    def __init__(self, pid, burst_time, arrival_time):\n",
    "        self.pid = pid\n",
    "        self.burst_time = burst_time\n",
    "        self.arrival_time = arrival_time\n",
    "        self.remaining_time = burst_time\n",
    "        self.completion_time = 0\n",
    "        self.turnaround_time = 0\n",
    "        self.waiting_time = 0\n",
    "\n",
    "def round_robin(processes, time_quantum):\n",
    "    n = len(processes)\n",
    "    remaining_time = [process.burst_time for process in processes]\n",
    "    total_waiting_time = 0\n",
    "    total_turnaround_time = 0\n",
    "    current_time = 0\n",
    "\n",
    "    while True:\n",
    "        all_finished = True\n",
    "\n",
    "        for i in range(n):\n",
    "            if remaining_time[i] > 0:\n",
    "                all_finished = False\n",
    "\n",
    "                if remaining_time[i] > time_quantum:\n",
    "                    current_time += time_quantum\n",
    "                    remaining_time[i] -= time_quantum\n",
    "                else:\n",
    "                    current_time += remaining_time[i]\n",
    "                    processes[i].completion_time = current_time\n",
    "                    remaining_time[i] = 0\n",
    "\n",
    "        if all_finished:\n",
    "            break\n",
    "\n",
    "    for process in processes:\n",
    "        process.turnaround_time = process.completion_time - process.arrival_time\n",
    "        process.waiting_time = process.turnaround_time - process.burst_time\n",
    "\n",
    "        total_waiting_time += process.waiting_time\n",
    "        total_turnaround_time += process.turnaround_time\n",
    "\n",
    "    average_waiting_time = total_waiting_time / n\n",
    "    average_turnaround_time = total_turnaround_time / n\n",
    "\n",
    "    print(\"\\nJob\\tArrival Time\\tBurst Time\\tFinish Time\\tTurnaround Time\\tWaiting Time\")\n",
    "    for process in processes:\n",
    "        print(f\"{chr(process.pid + 64)}\\t{process.arrival_time}\\t\\t{process.burst_time}\\t\\t{process.completion_time}\\t\\t{process.turnaround_time}\\t\\t{process.waiting_time}\")\n",
    "\n",
    "    print(f\"\\nAverage Waiting Time: {average_waiting_time:.2f}\")\n",
    "    print(f\"Average Turnaround Time: {average_turnaround_time:.2f}\")\n",
    "\n",
    "if __name__ == '__main__':\n",
    "    processes = [Process(1, 10, 0), Process(2, 5, 1), Process(3, 8, 2), Process(4, 2, 3)]\n",
    "    time_quantum = 2\n",
    "    round_robin(processes, time_quantum)"
   ]
  },
  {
   "cell_type": "code",
   "execution_count": null,
   "metadata": {},
   "outputs": [],
   "source": []
  }
 ],
 "metadata": {
  "kernelspec": {
   "display_name": "Python 3",
   "language": "python",
   "name": "python3"
  },
  "language_info": {
   "codemirror_mode": {
    "name": "ipython",
    "version": 3
   },
   "file_extension": ".py",
   "mimetype": "text/x-python",
   "name": "python",
   "nbconvert_exporter": "python",
   "pygments_lexer": "ipython3",
   "version": "3.9.6"
  },
  "orig_nbformat": 4
 },
 "nbformat": 4,
 "nbformat_minor": 2
}
