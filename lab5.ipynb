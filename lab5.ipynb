{
 "cells": [
  {
   "cell_type": "markdown",
   "metadata": {},
   "source": [
    "- FCFS With Arrival Time"
   ]
  },
  {
   "cell_type": "code",
   "execution_count": 1,
   "metadata": {},
   "outputs": [
    {
     "name": "stdout",
     "output_type": "stream",
     "text": [
      "P0: TAT=1, WT=0\n",
      "P1: TAT=2, WT=0\n",
      "P2: TAT=4, WT=1\n",
      "P3: TAT=6, WT=2\n",
      "Average Turnaround Time: 3.25\n",
      "Average Waiting Time: 0.75\n",
      "\n",
      "This is the timeline of all process : [1, 2, 2, 4, 4, 7, 7, 11]\n",
      "\n",
      "Gantt Chart:\n",
      "1 -- 2: Process P0 | 2 -- 4: Process P1 | 4 -- 7: Process P2 | 7 -- 11: Process P3 | "
     ]
    }
   ],
   "source": [
    "def fcfs_with_arrival(processes, burst_time, arrival_time):\n",
    "    n = len(processes)\n",
    "    turnaround_time = [0] * n\n",
    "    waiting_time = [0] * n\n",
    "    timeline = []\n",
    "\n",
    "    # Sort the processes based on arrival time\n",
    "    sorted_processes = sorted(range(n), key=lambda x: arrival_time[x])\n",
    "\n",
    "    timeline.append(arrival_time[sorted_processes[0]])\n",
    "    timeline.append(burst_time[sorted_processes[0]] + arrival_time[sorted_processes[0]])\n",
    "\n",
    "    for i in range(1, n):\n",
    "        timeline.append(timeline[-1])  # Append the previous end time\n",
    "        timeline.append(burst_time[sorted_processes[i]] + timeline[-1])\n",
    "\n",
    "    for i in range(n):\n",
    "        turnaround_time[i] = timeline[2 * i + 1] - arrival_time[sorted_processes[i]]\n",
    "        waiting_time[i] = turnaround_time[i] - burst_time[sorted_processes[i]]\n",
    "\n",
    "    # Calculate average waiting time and turnaround time\n",
    "    avg_waiting_time = sum(waiting_time) / n\n",
    "    avg_turnaround_time = sum(turnaround_time) / n\n",
    "\n",
    "    return turnaround_time, waiting_time, avg_turnaround_time, avg_waiting_time, timeline\n",
    "\n",
    "# Example usage:\n",
    "processes = ['P0', 'P1', 'P2', 'P3']\n",
    "arrival_time = [5,2,1,3]\n",
    "burst_time = [4,2,1,3]\n",
    "turnaround_time, waiting_time, avg_turnaround_time, avg_waiting_time, timeline = fcfs_with_arrival(processes, burst_time, arrival_time)\n",
    "\n",
    "for i in range(len(processes)):\n",
    "    print(f'{processes[i]}: TAT={turnaround_time[i]}, WT={waiting_time[i]}')\n",
    "\n",
    "print(f'Average Turnaround Time: {avg_turnaround_time}')\n",
    "print(f'Average Waiting Time: {avg_waiting_time}')\n",
    "\n",
    "print(f'\\nThis is the timeline of all process : {timeline}')\n",
    "\n",
    "# Print Gantt chart\n",
    "print(\"\\nGantt Chart:\")\n",
    "for i in range(0, len(timeline), 2):\n",
    "    print(f'{timeline[i]} -- {timeline[i + 1]}: Process {processes[i // 2]}', end=\" | \")"
   ]
  },
  {
   "cell_type": "markdown",
   "metadata": {},
   "source": [
    "- FCFS without arrival time"
   ]
  },
  {
   "cell_type": "code",
   "execution_count": 2,
   "metadata": {},
   "outputs": [
    {
     "name": "stdout",
     "output_type": "stream",
     "text": [
      "P1: TAT=5, WT=0\n",
      "P2: TAT=7, WT=5\n",
      "P3: TAT=8, WT=7\n",
      "P4: TAT=11, WT=8\n",
      "P5: TAT=13, WT=11\n",
      "Average Turnaround Time: 8.8\n",
      "Average Waiting Time: 6.2\n",
      "\n",
      "This is the timeline of all process : [0, 5, 5, 7, 7, 8, 8, 11, 11, 13]\n",
      "\n",
      "Gantt Chart:\n",
      "0 -- 5: Process P1 | 5 -- 7: Process P2 | 7 -- 8: Process P3 | 8 -- 11: Process P4 | 11 -- 13: Process P5 | "
     ]
    }
   ],
   "source": [
    "def fcfs_with_arrival(processes, burst_time, arrival_time):\n",
    "    n = len(processes)\n",
    "    turnaround_time = [0] * n\n",
    "    waiting_time = [0] * n\n",
    "    timeline = []\n",
    "\n",
    "    # Sort the processes based on arrival time\n",
    "    sorted_processes = sorted(range(n), key=lambda x: arrival_time[x])\n",
    "\n",
    "    timeline.append(arrival_time[sorted_processes[0]])\n",
    "    timeline.append(burst_time[sorted_processes[0]] + arrival_time[sorted_processes[0]])\n",
    "\n",
    "    for i in range(1, n):\n",
    "        timeline.append(timeline[-1])  # Append the previous end time\n",
    "        timeline.append(burst_time[sorted_processes[i]] + timeline[-1])\n",
    "\n",
    "    for i in range(n):\n",
    "        turnaround_time[i] = timeline[2 * i + 1] - arrival_time[sorted_processes[i]]\n",
    "        waiting_time[i] = turnaround_time[i] - burst_time[sorted_processes[i]]\n",
    "\n",
    "    # Calculate average waiting time and turnaround time\n",
    "    avg_waiting_time = sum(waiting_time) / n\n",
    "    avg_turnaround_time = sum(turnaround_time) / n\n",
    "\n",
    "    return turnaround_time, waiting_time, avg_turnaround_time, avg_waiting_time, timeline\n",
    "\n",
    "# Example usage:\n",
    "processes = ['P1', 'P2', 'P3','P4','P5']\n",
    "arrival_time = [0,0,0,0,0]\n",
    "burst_time = [5,2,1,3,2]\n",
    "turnaround_time, waiting_time, avg_turnaround_time, avg_waiting_time, timeline = fcfs_with_arrival(processes, burst_time, arrival_time)\n",
    "\n",
    "for i in range(len(processes)):\n",
    "    print(f'{processes[i]}: TAT={turnaround_time[i]}, WT={waiting_time[i]}')\n",
    "\n",
    "print(f'Average Turnaround Time: {avg_turnaround_time}')\n",
    "print(f'Average Waiting Time: {avg_waiting_time}')\n",
    "\n",
    "print(f'\\nThis is the timeline of all process : {timeline}')\n",
    "\n",
    "# Print Gantt chart\n",
    "print(\"\\nGantt Chart:\")\n",
    "for i in range(0, len(timeline), 2):\n",
    "    print(f'{timeline[i]} -- {timeline[i + 1]}: Process {processes[i // 2]}', end=\" | \")"
   ]
  },
  {
   "cell_type": "code",
   "execution_count": null,
   "metadata": {},
   "outputs": [],
   "source": []
  }
 ],
 "metadata": {
  "kernelspec": {
   "display_name": "Python 3",
   "language": "python",
   "name": "python3"
  },
  "language_info": {
   "codemirror_mode": {
    "name": "ipython",
    "version": 3
   },
   "file_extension": ".py",
   "mimetype": "text/x-python",
   "name": "python",
   "nbconvert_exporter": "python",
   "pygments_lexer": "ipython3",
   "version": "3.9.6"
  },
  "orig_nbformat": 4
 },
 "nbformat": 4,
 "nbformat_minor": 2
}
