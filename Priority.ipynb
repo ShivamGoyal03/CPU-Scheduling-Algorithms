{
 "cells": [
  {
   "cell_type": "markdown",
   "metadata": {},
   "source": [
    "---\n",
    "# Priority Queue Pre-emptive"
   ]
  },
  {
   "cell_type": "code",
   "execution_count": 24,
   "metadata": {},
   "outputs": [
    {
     "name": "stdout",
     "output_type": "stream",
     "text": [
      "\n",
      "Process\tBurst Time\tPriority\tArrival Time\tWaiting Time\tTurnaround Time\n",
      "P1\t10\t\t1\t\t1\t\t0\t\t10\n",
      "P3\t8\t\t2\t\t1\t\t10\t\t18\n",
      "P2\t5\t\t3\t\t0\t\t18\t\t23\n",
      "\n",
      "Average Waiting Time: 9.33\n",
      "Average Turnaround Time: 17.00\n"
     ]
    }
   ],
   "source": [
    "class Process:\n",
    "    def __init__(self, pid, burst_time, priority, arrival_time):\n",
    "        self.pid = pid\n",
    "        self.burst_time = burst_time\n",
    "        self.priority = priority\n",
    "        self.arrival_time = arrival_time\n",
    "\n",
    "def priority_scheduling():\n",
    "    processes = [\n",
    "        Process(1, 10, 1, 1),\n",
    "        Process(2, 5, 3, 0),\n",
    "        Process(3, 8, 2, 1),\n",
    "        # Process(4, 3, 3, 0),\n",
    "    ]\n",
    "\n",
    "    processes.sort(key=lambda x: x.priority)\n",
    "\n",
    "    print(\"\\nProcess\\tBurst Time\\tPriority\\tArrival Time\\tWaiting Time\\tTurnaround Time\")\n",
    "    waiting_time = 0\n",
    "    average_waiting_time = 0\n",
    "    total_turnaround_time = 0\n",
    "\n",
    "    for process in processes:\n",
    "        average_waiting_time += waiting_time\n",
    "        print(f\"P{process.pid}\\t{process.burst_time}\\t\\t{process.priority}\\t\\t{process.arrival_time}\\t\\t{waiting_time}\\t\\t\", end='')\n",
    "        turnaround_time = waiting_time + process.burst_time\n",
    "        total_turnaround_time += turnaround_time\n",
    "        print(turnaround_time)\n",
    "        waiting_time += process.burst_time\n",
    "\n",
    "    average_waiting_time = average_waiting_time / len(processes)\n",
    "    average_turnaround_time = total_turnaround_time / len(processes)\n",
    "\n",
    "    print(f\"\\nAverage Waiting Time: {average_waiting_time:.2f}\")\n",
    "    print(f\"Average Turnaround Time: {average_turnaround_time:.2f}\")\n",
    "\n",
    "if __name__ == '__main__':\n",
    "    priority_scheduling()"
   ]
  },
  {
   "cell_type": "code",
   "execution_count": null,
   "metadata": {},
   "outputs": [],
   "source": []
  }
 ],
 "metadata": {
  "kernelspec": {
   "display_name": "Python 3",
   "language": "python",
   "name": "python3"
  },
  "language_info": {
   "codemirror_mode": {
    "name": "ipython",
    "version": 3
   },
   "file_extension": ".py",
   "mimetype": "text/x-python",
   "name": "python",
   "nbconvert_exporter": "python",
   "pygments_lexer": "ipython3",
   "version": "0.0.0"
  },
  "orig_nbformat": 4
 },
 "nbformat": 4,
 "nbformat_minor": 2
}
