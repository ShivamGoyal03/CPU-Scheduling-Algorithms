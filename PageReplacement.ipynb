{
 "cells": [
  {
   "cell_type": "code",
   "execution_count": 6,
   "metadata": {},
   "outputs": [
    {
     "name": "stdout",
     "output_type": "stream",
     "text": [
      "LRU Page Faults: 6\n",
      "FIFO Page Faults: 7\n",
      "Optimal Page Faults: 6\n"
     ]
    }
   ],
   "source": [
    "# Function to simulate LRU page replacement\n",
    "def lru(pages, capacity):\n",
    "    cache = []\n",
    "    page_faults = 0\n",
    "    \n",
    "    for page in pages:\n",
    "        if page in cache:\n",
    "            # Move the accessed page to the end (most recently used)\n",
    "            cache.remove(page)\n",
    "            cache.append(page)\n",
    "        else:\n",
    "            if len(cache) == capacity:\n",
    "                cache.pop(0)  # Remove the least recently used page\n",
    "            cache.append(page)  # Add the new page\n",
    "            page_faults += 1\n",
    "    \n",
    "    return page_faults\n",
    "\n",
    "# Function to simulate FIFO page replacement\n",
    "def fifo(pages, capacity):\n",
    "    cache = []\n",
    "    page_faults = 0\n",
    "    \n",
    "    for page in pages:\n",
    "        if page not in cache:\n",
    "            if len(cache) == capacity:\n",
    "                cache.pop(0)  # Remove the oldest page\n",
    "            cache.append(page)  # Add the new page\n",
    "            page_faults += 1\n",
    "    \n",
    "    return page_faults\n",
    "\n",
    "# Function to simulate Optimal page replacement\n",
    "def optimal(pages, capacity):\n",
    "    page_faults = 0\n",
    "    frame = [-1] * capacity\n",
    "    next_use = [0] * capacity\n",
    "\n",
    "    for i, page in enumerate(pages):\n",
    "        if page in frame:\n",
    "            next_use[frame.index(page)] = max(next_use) + 1\n",
    "            continue\n",
    "\n",
    "        if -1 in frame:\n",
    "            index = frame.index(-1)\n",
    "            frame[index] = page\n",
    "            page_faults += 1\n",
    "            next_use[index] = max(next_use) + 1\n",
    "        else:\n",
    "            farthest_page = frame[next_use.index(min(next_use))]\n",
    "            index = frame.index(farthest_page)\n",
    "            frame[index] = page\n",
    "            page_faults += 1\n",
    "            next_use[index] = max(next_use) + 1\n",
    "\n",
    "    return page_faults\n",
    "\n",
    "if __name__ == '__main__':\n",
    "    pages = [7, 0, 1, 2, 0, 3, 0, 4, 2, 3, 0, 3, 2, 3]\n",
    "    capacity = 4\n",
    "\n",
    "    lru_faults = lru(pages, capacity)\n",
    "    fifo_faults = fifo(pages, capacity)\n",
    "    optimal_faults = optimal(pages, capacity)\n",
    "\n",
    "    print(\"LRU Page Faults:\", lru_faults)\n",
    "    print(\"FIFO Page Faults:\", fifo_faults)\n",
    "    print(\"Optimal Page Faults:\", optimal_faults)\n"
   ]
  },
  {
   "cell_type": "code",
   "execution_count": null,
   "metadata": {},
   "outputs": [],
   "source": []
  }
 ],
 "metadata": {
  "kernelspec": {
   "display_name": "Python 3",
   "language": "python",
   "name": "python3"
  },
  "language_info": {
   "codemirror_mode": {
    "name": "ipython",
    "version": 3
   },
   "file_extension": ".py",
   "mimetype": "text/x-python",
   "name": "python",
   "nbconvert_exporter": "python",
   "pygments_lexer": "ipython3",
   "version": "3.9.6"
  }
 },
 "nbformat": 4,
 "nbformat_minor": 2
}
