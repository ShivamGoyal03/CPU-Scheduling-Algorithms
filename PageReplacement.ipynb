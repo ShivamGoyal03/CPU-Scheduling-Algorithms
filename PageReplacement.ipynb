{
 "cells": [
  {
   "cell_type": "code",
   "execution_count": 1,
   "metadata": {},
   "outputs": [
    {
     "name": "stdout",
     "output_type": "stream",
     "text": [
      "LRU Page Faults: 7\n",
      "FIFO Page Faults: 10\n",
      "Optimal Page Faults: 7\n"
     ]
    }
   ],
   "source": [
    "# Function to simulate LRU page replacement\n",
    "def lru(pages, capacity):\n",
    "    cache = []\n",
    "    page_faults = 0\n",
    "    \n",
    "    for page in pages:\n",
    "        if page in cache:\n",
    "            # Move the accessed page to the end (most recently used)\n",
    "            cache.remove(page)\n",
    "            cache.append(page)\n",
    "        else:\n",
    "            if len(cache) == capacity:\n",
    "                cache.pop(0)  # Remove the least recently used page\n",
    "            cache.append(page)  # Add the new page\n",
    "            page_faults += 1\n",
    "    \n",
    "    return page_faults\n",
    "\n",
    "# Function to simulate FIFO page replacement\n",
    "def fifo(pages, capacity):\n",
    "    cache = []\n",
    "    page_faults = 0\n",
    "    \n",
    "    for page in pages:\n",
    "        if page not in cache:\n",
    "            if len(cache) == capacity:\n",
    "                cache.pop(0)  # Remove the oldest page\n",
    "            cache.append(page)  # Add the new page\n",
    "            page_faults += 1\n",
    "    \n",
    "    return page_faults\n",
    "\n",
    "# Function to simulate Optimal page replacement\n",
    "def optimal(pages, capacity):\n",
    "    page_faults = 0\n",
    "    frame = [-1] * capacity\n",
    "    next_use = [0] * capacity\n",
    "\n",
    "    for i, page in enumerate(pages):\n",
    "        if page in frame:\n",
    "            next_use[frame.index(page)] = max(next_use) + 1\n",
    "            continue\n",
    "\n",
    "        if -1 in frame:\n",
    "            index = frame.index(-1)\n",
    "            frame[index] = page\n",
    "            page_faults += 1\n",
    "            next_use[index] = max(next_use) + 1\n",
    "        else:\n",
    "            farthest_page = frame[next_use.index(min(next_use))]\n",
    "            index = frame.index(farthest_page)\n",
    "            frame[index] = page\n",
    "            page_faults += 1\n",
    "            next_use[index] = max(next_use) + 1\n",
    "\n",
    "    return page_faults\n",
    "\n",
    "if __name__ == '__main__':\n",
    "    pages = [1, 0, 2, 3, 2, 0, 1, 0, 1, 2, 3, 2, 1, 3, 1, 0 ,1]\n",
    "    capacity = 3\n",
    "\n",
    "    lru_faults = lru(pages, capacity)\n",
    "    fifo_faults = fifo(pages, capacity)\n",
    "    optimal_faults = optimal(pages, capacity)\n",
    "\n",
    "    print(\"LRU Page Faults:\", lru_faults)\n",
    "    print(\"FIFO Page Faults:\", fifo_faults)\n",
    "    print(\"Optimal Page Faults:\", optimal_faults)\n"
   ]
  },
  {
   "cell_type": "code",
   "execution_count": 2,
   "metadata": {},
   "outputs": [],
   "source": [
    "# Function to simulate FIFO page replacement\n",
    "def fifo(pages, capacity):\n",
    "    cache = []\n",
    "    page_faults = 0\n",
    "\n",
    "    print(f\"{'Page':<10}{'Cache':<30}{'Page Faults'}\")\n",
    "    \n",
    "    for page in pages:\n",
    "        if page not in cache:\n",
    "            if len(cache) == capacity:\n",
    "                cache.pop(0)  # Remove the oldest page\n",
    "            cache.append(page)  # Add the new page\n",
    "            page_faults += 1\n",
    "            print(f\"{page:<10}{str(cache):<30}{page_faults}\")\n",
    "        else:\n",
    "            print(f\"{page:<10}{str(cache):<30}{page_faults}\")\n",
    "    \n",
    "    return page_faults"
   ]
  },
  {
   "cell_type": "code",
   "execution_count": 3,
   "metadata": {},
   "outputs": [
    {
     "name": "stdout",
     "output_type": "stream",
     "text": [
      "Page      Cache                         Page Faults\n",
      "1         [1]                           1\n",
      "0         [1, 0]                        2\n",
      "2         [1, 0, 2]                     3\n",
      "3         [0, 2, 3]                     4\n",
      "2         [0, 2, 3]                     4\n",
      "0         [0, 2, 3]                     4\n",
      "1         [2, 3, 1]                     5\n",
      "0         [3, 1, 0]                     6\n",
      "1         [3, 1, 0]                     6\n",
      "2         [1, 0, 2]                     7\n",
      "3         [0, 2, 3]                     8\n",
      "2         [0, 2, 3]                     8\n",
      "1         [2, 3, 1]                     9\n",
      "3         [2, 3, 1]                     9\n",
      "1         [2, 3, 1]                     9\n",
      "0         [3, 1, 0]                     10\n",
      "1         [3, 1, 0]                     10\n"
     ]
    }
   ],
   "source": [
    "if __name__ == '__main__':\n",
    "    pages = [1, 0, 2, 3, 2, 0, 1, 0, 1, 2, 3, 2, 1, 3, 1, 0 ,1]\n",
    "    capacity = 3\n",
    "\n",
    "    fifo_faults = fifo(pages, capacity)"
   ]
  },
  {
   "cell_type": "code",
   "execution_count": 6,
   "metadata": {},
   "outputs": [],
   "source": [
    "# Function to simulate LRU page replacement\n",
    "def lru(pages, capacity):\n",
    "    cache = []\n",
    "    page_faults = 0\n",
    "    timestamps = {}  # To keep track of when a page was last used\n",
    "\n",
    "    print(f\"{'Page':<10}{'Cache':<30}{'Page Faults'}\")\n",
    "\n",
    "    for i, page in enumerate(pages):\n",
    "        if page not in cache:\n",
    "            if len(cache) == capacity:\n",
    "                # Find the least recently used page and remove it\n",
    "                lru_page = min(timestamps, key=timestamps.get)\n",
    "                cache.remove(lru_page)\n",
    "                del timestamps[lru_page]\n",
    "            cache.append(page)\n",
    "            page_faults += 1\n",
    "            print(f\"{page:<10}{str(cache):<30}{page_faults}\")\n",
    "        else:\n",
    "            # Move the accessed page to the end of the cache\n",
    "            cache.remove(page)\n",
    "            cache.append(page)\n",
    "            print(f\"{page:<10}{str(cache):<30}{page_faults}\")\n",
    "        timestamps[page] = i  # Update the timestamp of the current page\n",
    "\n",
    "    return page_faults"
   ]
  },
  {
   "cell_type": "code",
   "execution_count": 7,
   "metadata": {},
   "outputs": [
    {
     "name": "stdout",
     "output_type": "stream",
     "text": [
      "Page      Cache                         Page Faults\n",
      "1         [1]                           1\n",
      "0         [1, 0]                        2\n",
      "2         [1, 0, 2]                     3\n",
      "3         [0, 2, 3]                     4\n",
      "2         [0, 3, 2]                     4\n",
      "0         [3, 2, 0]                     4\n",
      "1         [2, 0, 1]                     5\n",
      "0         [2, 1, 0]                     5\n",
      "1         [2, 0, 1]                     5\n",
      "2         [0, 1, 2]                     5\n",
      "3         [1, 2, 3]                     6\n",
      "2         [1, 3, 2]                     6\n",
      "1         [3, 2, 1]                     6\n",
      "3         [2, 1, 3]                     6\n",
      "1         [2, 3, 1]                     6\n",
      "0         [3, 1, 0]                     7\n",
      "1         [3, 0, 1]                     7\n"
     ]
    }
   ],
   "source": [
    "if __name__ == '__main__':\n",
    "    pages = [1, 0, 2, 3, 2, 0, 1, 0, 1, 2, 3, 2, 1, 3, 1, 0 ,1]\n",
    "    capacity = 3\n",
    "\n",
    "    lru_faults = lru(pages, capacity)"
   ]
  },
  {
   "cell_type": "code",
   "execution_count": null,
   "metadata": {},
   "outputs": [],
   "source": []
  }
 ],
 "metadata": {
  "kernelspec": {
   "display_name": "Python 3",
   "language": "python",
   "name": "python3"
  },
  "language_info": {
   "codemirror_mode": {
    "name": "ipython",
    "version": 3
   },
   "file_extension": ".py",
   "mimetype": "text/x-python",
   "name": "python",
   "nbconvert_exporter": "python",
   "pygments_lexer": "ipython3",
   "version": "3.9.13"
  }
 },
 "nbformat": 4,
 "nbformat_minor": 2
}
